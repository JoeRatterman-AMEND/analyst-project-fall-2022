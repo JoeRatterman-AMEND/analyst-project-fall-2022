{
 "cells": [
  {
   "cell_type": "code",
   "execution_count": null,
   "metadata": {},
   "outputs": [],
   "source": [
    "# Load required packages\n",
    "import datetime\n",
    "import matplotlib.pyplot as plt\n",
    "import numpy as np\n",
    "import pandas as pd\n",
    "import pyodbc"
   ]
  },
  {
   "cell_type": "code",
   "execution_count": null,
   "metadata": {},
   "outputs": [],
   "source": [
    "# Create connection to AdventureWorksDW\n",
    "conn = pyodbc.connect('Driver={SQL Server};'\n",
    "                        'Server=localhost\\SQLEXPRESS;'\n",
    "                        'Database=AdventureWorksDW2019;'\n",
    "                        'Trusted_Connection=yes;')"
   ]
  },
  {
   "cell_type": "code",
   "execution_count": null,
   "metadata": {},
   "outputs": [],
   "source": [
    "# Define sql to query SalesView\n",
    "sql = \"SELECT * FROM SalesView\"\n",
    "\n",
    "# Load SalesView\n",
    "df = pd.read_sql(sql, conn)\n",
    "df.head()"
   ]
  },
  {
   "cell_type": "code",
   "execution_count": null,
   "metadata": {},
   "outputs": [],
   "source": [
    "# Clean column names\n",
    "df.rename(\n",
    "    columns = {\n",
    "        \"OrderYear\": \"year\",\n",
    "        \"OrderMonth\": \"month\",\n",
    "        \"SalesAmount\": \"sales\", \n",
    "        \"ProductKey\": \"item\", \n",
    "        \"SalesTerritoryKey\": \"sales_terr_key\"\n",
    "    }\n",
    "    , inplace = True \n",
    ")"
   ]
  },
  {
   "cell_type": "code",
   "execution_count": null,
   "metadata": {},
   "outputs": [],
   "source": [
    "# Add day and day of week to df\n",
    "df[\"day\"] = pd.to_datetime(df[\"OrderDate\"]).dt.day\n",
    "df[\"day_of_week\"] = pd.to_datetime(df[\"OrderDate\"]).dt.day_of_week\n",
    "df.head()"
   ]
  },
  {
   "cell_type": "code",
   "execution_count": null,
   "metadata": {},
   "outputs": [],
   "source": [
    "# Group sales by day by item by store\n",
    "sales_df = df.groupby([\"sales_terr_key\", \"item\", \"OrderDate\", \"year\", \"month\", \"day\", \"day_of_week\"], as_index = False)[\"sales\"].sum()\n",
    "sales_df.sort_values([\"sales_terr_key\", \"item\", \"year\", \"month\", \"day\", \"day_of_week\"]).head()"
   ]
  },
  {
   "cell_type": "code",
   "execution_count": null,
   "metadata": {},
   "outputs": [],
   "source": [
    "# Filter for 2013 data\n",
    "sales_df = sales_df[(sales_df[\"OrderDate\"] <= '2013-12-31') & (sales_df[\"OrderDate\"] >= '2013-01-01')]\n",
    "\n",
    "# Convert OrderDate to datetime\n",
    "sales_df[\"OrderDate\"] = pd.to_datetime(sales_df[\"OrderDate\"])"
   ]
  },
  {
   "cell_type": "code",
   "execution_count": null,
   "metadata": {},
   "outputs": [],
   "source": [
    "# Get unique list of territories & items\n",
    "unique_val_df = sales_df[[\"sales_terr_key\", \"item\"]].drop_duplicates()\n",
    "\n",
    "# Add join key\n",
    "unique_val_df['key'] = 0\n",
    "unique_val_df.head()"
   ]
  },
  {
   "cell_type": "code",
   "execution_count": null,
   "metadata": {},
   "outputs": [],
   "source": [
    "# Create full date range df\n",
    "date_df = pd.DataFrame(pd.date_range(min(sales_df[\"OrderDate\"]), pd.to_datetime('2014-01-15')), columns = [\"OrderDate\"])\n",
    "\n",
    "# Add join key\n",
    "date_df['key'] = 0"
   ]
  },
  {
   "cell_type": "code",
   "execution_count": null,
   "metadata": {},
   "outputs": [],
   "source": [
    "# Merge items w/ dates\n",
    "full_date_df = date_df.merge(unique_val_df, how = \"outer\", on = 'key').sort_values([\"sales_terr_key\", \"item\", \"OrderDate\"])\n",
    "full_date_df.head()"
   ]
  },
  {
   "cell_type": "code",
   "execution_count": null,
   "metadata": {},
   "outputs": [],
   "source": [
    "# Create full date range sales_df\n",
    "final_sales_df = full_date_df.merge(sales_df, how = \"left\", on = ['sales_terr_key', 'item', 'OrderDate'])\n",
    "\n",
    "# Clean sales NA values\n",
    "final_sales_df[\"sales\"] = final_sales_df[\"sales\"].fillna(0)\n",
    "\n",
    "# Keep required columns\n",
    "final_sales_df = final_sales_df[[\"OrderDate\", \"sales_terr_key\", \"item\", \"sales\"]]\n",
    "final_sales_df.tail()"
   ]
  },
  {
   "cell_type": "code",
   "execution_count": null,
   "metadata": {},
   "outputs": [],
   "source": [
    "# Calculate rolling average\n",
    "final_sales_df[\"rolling_sales_pred\"] = final_sales_df.groupby(['sales_terr_key', 'item'])['sales'].transform(lambda x: x.rolling(15, 1).mean())"
   ]
  },
  {
   "cell_type": "code",
   "execution_count": null,
   "metadata": {},
   "outputs": [],
   "source": [
    "# Calculate 15 days ago\n",
    "min_date = max(final_sales_df[\"OrderDate\"]) - datetime.timedelta(15)\n",
    "\n",
    "# Filter final_sales_df for last 15 days\n",
    "results_df = final_sales_df[final_sales_df[\"OrderDate\"] > min_date]\n",
    "\n",
    "# Change OrderDate type\n",
    "results_df[\"OrderDate\"] = results_df[\"OrderDate\"].dt.date\n",
    "\n",
    "# Select final columns\n",
    "results_df = results_df[[\"OrderDate\", \"sales_terr_key\", \"item\", \"rolling_sales_pred\"]]\n",
    "results_df.head()"
   ]
  },
  {
   "cell_type": "code",
   "execution_count": null,
   "metadata": {},
   "outputs": [],
   "source": [
    "# Create python cursor\n",
    "cursor = conn.cursor()\n",
    "\n",
    "# Drop results table\n",
    "cursor.execute(\"DROP TABLE ForecastTable\")\n",
    "\n",
    "# Create results table if needed\n",
    "cursor.execute(\n",
    "    \n",
    "\"\"\" \n",
    "CREATE TABLE ForecastTable(\n",
    "    OrderDate            VARCHAR(50) NOT NULL\n",
    "    ,sales_terr_key      VARCHAR(4) NOT NULL\n",
    "    ,item                VARCHAR(30) NOT NULL\n",
    "    ,rolling_sales_pred  NUMERIC(10,5) NOT NULL\n",
    "    )\n",
    "    \n",
    "\"\"\"\n",
    ")"
   ]
  },
  {
   "cell_type": "code",
   "execution_count": null,
   "metadata": {},
   "outputs": [],
   "source": [
    "# Insert Dataframe into SQL Server:\n",
    "for i in range(len(results_df)):\n",
    "    \n",
    "    cursor.execute(\"INSERT INTO ForecastTable (OrderDate, sales_terr_key, item, rolling_sales_pred) values(?,?,?,?)\"\n",
    "    , str(results_df.iloc[i][0])\n",
    "    , str(results_df.iloc[i][1])\n",
    "    , str(results_df.iloc[i][2])\n",
    "    , float(results_df.iloc[i][3])\n",
    "    )\n",
    "conn.commit()"
   ]
  },
  {
   "cell_type": "code",
   "execution_count": null,
   "metadata": {},
   "outputs": [],
   "source": [
    "# Close database connection\n",
    "cursor.close()\n",
    "print('Insert Complete')"
   ]
  }
 ],
 "metadata": {
  "kernelspec": {
   "display_name": "Python 3.10.6 64-bit",
   "language": "python",
   "name": "python3"
  },
  "language_info": {
   "codemirror_mode": {
    "name": "ipython",
    "version": 3
   },
   "file_extension": ".py",
   "mimetype": "text/x-python",
   "name": "python",
   "nbconvert_exporter": "python",
   "pygments_lexer": "ipython3",
   "version": "3.10.6"
  },
  "orig_nbformat": 4,
  "vscode": {
   "interpreter": {
    "hash": "7647ba9298a729004ac304b6e4448421e14775e9b2492e20497bf3db620b69a5"
   }
  }
 },
 "nbformat": 4,
 "nbformat_minor": 2
}
